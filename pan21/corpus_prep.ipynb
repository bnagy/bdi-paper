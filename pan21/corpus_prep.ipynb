{
 "cells": [
  {
   "cell_type": "code",
   "execution_count": 15,
   "metadata": {
    "metadata": {}
   },
   "outputs": [],
   "source": [
    "import pandas as pd\n",
    "import numpy as np\n",
    "from sklearn.model_selection import GroupShuffleSplit"
   ]
  },
  {
   "cell_type": "code",
   "execution_count": 106,
   "metadata": {
    "metadata": {}
   },
   "outputs": [],
   "source": [
    "def build_corpus(truth_fn, text_fn: str) -> pd.DataFrame:\n",
    "    try:\n",
    "        # jasonl looks like this:\n",
    "        # {\"id\": \"c28e8b03-c02a-5184-b58a-12dd28b8ca74\", \"same\": true, \"authors\": [\"2072507\", \"2072507\"]}\n",
    "        # We need to split the two authors into columns because they match the texts in the next part\n",
    "        tmp_df = pd.read_json(truth_fn, lines=True)\n",
    "        truth_df = pd.DataFrame(\n",
    "            tmp_df.authors.to_list(), index=tmp_df.index, columns=[\"a1\", \"a2\"]\n",
    "        )\n",
    "    except Exception as e:\n",
    "        traceback.print_exception(e)\n",
    "        raise ValueError(f\"Couldn't build truth df from filename {truth_fn}: {e}\")\n",
    "\n",
    "    try:\n",
    "        # jsonl looks like this:\n",
    "        # {\"id\": \"c28e8b03-c02a-5184-b58a-12dd28b8ca74\", \"fandoms\": [\"Death Note\", \"Thor\"], \"pair\": [\"talk because they hadn\\\"t ...\n",
    "        # Split the texts into individual columns as above. Not using the fandoms.\n",
    "        tmp_series = pd.read_json(text_fn, lines=True)[\"pair\"]  # a series not a df\n",
    "        text_df = pd.DataFrame(\n",
    "            tmp_series.to_list(), index=tmp_series.index, columns=[\"t1\", \"t2\"]\n",
    "        )\n",
    "    except Exception as e:\n",
    "        traceback.print_exception(e)\n",
    "        raise ValueError(f\"Couldn't build text df from filename {text_fn}: {e}\")\n",
    "\n",
    "    # Now just melt (wide to long) the authors and columns then join them to make a two column df\n",
    "    final = pd.concat(\n",
    "        [\n",
    "            truth_df.melt(value_name=\"author\"),\n",
    "            text_df.melt(value_name=\"text\"),\n",
    "        ],\n",
    "        axis=1,\n",
    "    )[[\"author\", \"text\"]]\n",
    "\n",
    "    final = final.drop_duplicates()\n",
    "\n",
    "    return final"
   ]
  },
  {
   "cell_type": "code",
   "execution_count": 3,
   "metadata": {
    "metadata": {}
   },
   "outputs": [
    {
     "data": {
      "text/html": [
       "<div>\n",
       "<style scoped>\n",
       "    .dataframe tbody tr th:only-of-type {\n",
       "        vertical-align: middle;\n",
       "    }\n",
       "\n",
       "    .dataframe tbody tr th {\n",
       "        vertical-align: top;\n",
       "    }\n",
       "\n",
       "    .dataframe thead th {\n",
       "        text-align: right;\n",
       "    }\n",
       "</style>\n",
       "<table border=\"1\" class=\"dataframe\">\n",
       "  <thead>\n",
       "    <tr style=\"text-align: right;\">\n",
       "      <th></th>\n",
       "      <th>author</th>\n",
       "      <th>text</th>\n",
       "    </tr>\n",
       "  </thead>\n",
       "  <tbody>\n",
       "    <tr>\n",
       "      <th>0</th>\n",
       "      <td>2072507</td>\n",
       "      <td>talk because they hadn\"t been exposed to commu...</td>\n",
       "    </tr>\n",
       "    <tr>\n",
       "      <th>1</th>\n",
       "      <td>1404943</td>\n",
       "      <td>Zazuki nodded his head and got to his feet, kn...</td>\n",
       "    </tr>\n",
       "    <tr>\n",
       "      <th>2</th>\n",
       "      <td>2406271</td>\n",
       "      <td>\"Oh we did lots of special things. On Christma...</td>\n",
       "    </tr>\n",
       "    <tr>\n",
       "      <th>3</th>\n",
       "      <td>189771</td>\n",
       "      <td>\"Hey now, at least Shido brings home some mone...</td>\n",
       "    </tr>\n",
       "    <tr>\n",
       "      <th>4</th>\n",
       "      <td>965626</td>\n",
       "      <td>It was a mere five minutes\" walk from third ye...</td>\n",
       "    </tr>\n",
       "    <tr>\n",
       "      <th>...</th>\n",
       "      <td>...</td>\n",
       "      <td>...</td>\n",
       "    </tr>\n",
       "    <tr>\n",
       "      <th>39993</th>\n",
       "      <td>2264834</td>\n",
       "      <td>He didn\"t prevail. His brother was now in our ...</td>\n",
       "    </tr>\n",
       "    <tr>\n",
       "      <th>39994</th>\n",
       "      <td>8582246</td>\n",
       "      <td>You\"re the fear, I don\"t care\"Cause I\"ve never...</td>\n",
       "    </tr>\n",
       "    <tr>\n",
       "      <th>39995</th>\n",
       "      <td>1421642</td>\n",
       "      <td>Authoress starts dancing around happily. Darkf...</td>\n",
       "    </tr>\n",
       "    <tr>\n",
       "      <th>39996</th>\n",
       "      <td>787585</td>\n",
       "      <td>\"Have you ever heard of the Turing test?\" \"No ...</td>\n",
       "    </tr>\n",
       "    <tr>\n",
       "      <th>39997</th>\n",
       "      <td>2310029</td>\n",
       "      <td>Myra smiled happily, \"Yes, it\"s a lovely dress...</td>\n",
       "    </tr>\n",
       "  </tbody>\n",
       "</table>\n",
       "<p>39998 rows × 2 columns</p>\n",
       "</div>"
      ],
      "text/plain": [
       "        author                                               text\n",
       "0      2072507  talk because they hadn\"t been exposed to commu...\n",
       "1      1404943  Zazuki nodded his head and got to his feet, kn...\n",
       "2      2406271  \"Oh we did lots of special things. On Christma...\n",
       "3       189771  \"Hey now, at least Shido brings home some mone...\n",
       "4       965626  It was a mere five minutes\" walk from third ye...\n",
       "...        ...                                                ...\n",
       "39993  2264834  He didn\"t prevail. His brother was now in our ...\n",
       "39994  8582246  You\"re the fear, I don\"t care\"Cause I\"ve never...\n",
       "39995  1421642  Authoress starts dancing around happily. Darkf...\n",
       "39996   787585  \"Have you ever heard of the Turing test?\" \"No ...\n",
       "39997  2310029  Myra smiled happily, \"Yes, it\"s a lovely dress...\n",
       "\n",
       "[39998 rows x 2 columns]"
      ]
     },
     "execution_count": 3,
     "metadata": {},
     "output_type": "execute_result"
    }
   ],
   "source": [
    "verif_df = build_corpus(\n",
    "    \"pan21-authorship-verification-test-truth.jsonl\",\n",
    "    \"pan21-authorship-verification-test.jsonl\",\n",
    ")\n",
    "verif_df"
   ]
  },
  {
   "cell_type": "code",
   "execution_count": 66,
   "metadata": {
    "metadata": {}
   },
   "outputs": [],
   "source": [
    "def split_by_authors(\n",
    "    df: pd.DataFrame, n: int, rs: np.random.RandomState | int\n",
    ") -> (pd.DataFrame, pd.DataFrame):\n",
    "    a_idx, b_idx = (\n",
    "        GroupShuffleSplit(n_splits=1, test_size=n, random_state=rs)\n",
    "        .split(X=df[\"text\"], y=None, groups=df[\"author\"])\n",
    "        .__next__()\n",
    "    )\n",
    "    a, b = (\n",
    "        df.iloc[a_idx],\n",
    "        df.iloc[b_idx],\n",
    "    )\n",
    "    return (a, b)\n",
    "\n",
    "\n",
    "def wrong_author(r, frm: pd.Series, rs: np.random.RandomState) -> int:\n",
    "    while True:\n",
    "        x = frm.sample(1, random_state=rs).iloc[0]\n",
    "        if x != r[\"author\"]:\n",
    "            return int(x)\n",
    "\n",
    "\n",
    "def make_test_train(\n",
    "    df: pd.DataFrame,\n",
    "    rs: np.random.RandomState | int,\n",
    "    n_true_samples: int = -1,\n",
    ") -> tuple[pd.DataFrame, pd.DataFrame]:\n",
    "\n",
    "    # The general strategy is to build a test frame with n_true_samples (ground truth =1) and the\n",
    "    # same number of false samples (ground truth =0). The false samples are split half into authors\n",
    "    # that exist in the training corpus, but have wrong test_against labels, and half samples that\n",
    "    # are from never-seen authors.\n",
    "    #\n",
    "    # To do this we need:\n",
    "    # - n samples from authors with at least 2 texts, with correct 'test_against'\n",
    "    # - n/2 samples from authors with at least 2 texts, with incorrect 'test_against'\n",
    "    # - n/2 samples from authors with 1 text, to go into the training set as noise\n",
    "    # - n/2 samples from authors with 1 text to go into the test set with incorrect 'test_against'\n",
    "\n",
    "    try:\n",
    "        rs = np.random.RandomState(seed=int(rs))\n",
    "    except TypeError:\n",
    "        # hope it's a random state, if not it will error elsewhere\n",
    "        pass\n",
    "\n",
    "    vc = df[\"author\"].value_counts()\n",
    "    # map uses the value counts as a dict from author to count, so this filter chooses indices where the\n",
    "    # value count meets whatever criteria\n",
    "    single_df = pd.DataFrame(df[df[\"author\"].map(vc) == 1])\n",
    "    multi_df = pd.DataFrame(df[df[\"author\"].map(vc) > 1])\n",
    "\n",
    "    if n_true_samples > 0:\n",
    "        if len(multi_df.author.unique()) < (n_true_samples * 1.5):\n",
    "            raise ValueError(\n",
    "                f\"Can't make a test set with {n_true_samples} true samples. \"\n",
    "                f\"Need {int(n_true_samples*1.5)} authors with 2+ texts, \"\n",
    "                f\"have {len(multi_df.author.unique())}\"\n",
    "            )\n",
    "    else:\n",
    "        n_true_samples = len(multi_df.author.unique()) // 3 * 2\n",
    "\n",
    "    rest, multi_t = split_by_authors(multi_df, n_true_samples, rs)\n",
    "    rest, multi_f = split_by_authors(rest, n_true_samples // 2, rs)\n",
    "\n",
    "    assert (\n",
    "        (set(multi_t.author).isdisjoint(set(rest.author)))\n",
    "        and (set(multi_f.author).isdisjoint(set(rest.author)))\n",
    "        and (set(multi_t.author).isdisjoint(set(multi_f.author)))\n",
    "    )\n",
    "\n",
    "    assert (\n",
    "        (len(multi_t.author.unique()) == n_true_samples)\n",
    "        and (len(multi_f.author.unique()) == n_true_samples // 2)\n",
    "        and (\n",
    "            n_true_samples + n_true_samples // 2 + len(rest.author.unique())\n",
    "            == len(multi_df.author.unique())\n",
    "        )\n",
    "    )\n",
    "\n",
    "    # One sample from each of the multi authors goes into the test set for true and false. Those\n",
    "    # samples are dropped from the training sets.\n",
    "    multi_t_test = multi_t.groupby(\"author\").sample(1, random_state=rs)\n",
    "    multi_t_train = multi_t.drop(multi_t_test.index)\n",
    "    multi_f_test = multi_f.groupby(\"author\").sample(1, random_state=rs)\n",
    "    multi_f_train = multi_f.drop(multi_f_test.index)\n",
    "\n",
    "    single_train = single_df.sample(n_true_samples // 2, random_state=rs)\n",
    "    single_df = single_df.drop(single_train.index)\n",
    "    single_test = single_df.sample(n_true_samples // 2, random_state=rs)\n",
    "\n",
    "    assert set(single_test.author).isdisjoint(set(single_train.author))\n",
    "\n",
    "    all_authors = pd.Series(\n",
    "        np.concatenate(\n",
    "            [\n",
    "                multi_t.author.unique(),\n",
    "                multi_f.author.unique(),\n",
    "                single_train.author.unique(),\n",
    "            ]\n",
    "        )\n",
    "    )\n",
    "\n",
    "    # Now build the dataframes\n",
    "\n",
    "    # ground truth = T, test against real author ID\n",
    "    multi_t_test = multi_t_test.assign(test_against=multi_t_test[\"author\"])\n",
    "    multi_t_test[\"gt\"] = 1\n",
    "\n",
    "    # ground truth = F, test against a random false author ID\n",
    "    multi_f_test[\"test_against\"] = multi_f_test.apply(\n",
    "        lambda r: wrong_author(r, all_authors, rs), axis=1\n",
    "    )\n",
    "    multi_f_test[\"gt\"] = 0\n",
    "\n",
    "    single_test[\"test_against\"] = single_test.apply(\n",
    "        lambda r: wrong_author(r, all_authors, rs), axis=1\n",
    "    )\n",
    "    single_test[\"gt\"] = 0\n",
    "\n",
    "    test_df = pd.concat(\n",
    "        [multi_t_test, multi_f_test, single_test], verify_integrity=True\n",
    "    )\n",
    "    train_df = pd.concat(\n",
    "        [multi_t_train, multi_f_train, single_train], verify_integrity=True\n",
    "    )\n",
    "\n",
    "    # everything uses the original indices, so if these are disjoint then no text appears in both\n",
    "    # test and train.\n",
    "    assert(set(test_df.index).isdisjoint(set(train_df.index)))\n",
    "\n",
    "    return (test_df, train_df)"
   ]
  },
  {
   "cell_type": "code",
   "execution_count": 93,
   "metadata": {
    "metadata": {}
   },
   "outputs": [],
   "source": [
    "verif_test, verif_train = make_test_train(verif_df, rs=42, n_true_samples=-1)"
   ]
  },
  {
   "cell_type": "code",
   "execution_count": 95,
   "metadata": {
    "metadata": {}
   },
   "outputs": [],
   "source": [
    "verif_test.to_csv(\"verif_test.csv\")\n",
    "verif_train.to_csv(\"verif_train.csv\")"
   ]
  },
  {
   "cell_type": "code",
   "execution_count": 107,
   "metadata": {
    "metadata": {}
   },
   "outputs": [
    {
     "data": {
      "text/html": [
       "<div>\n",
       "<style scoped>\n",
       "    .dataframe tbody tr th:only-of-type {\n",
       "        vertical-align: middle;\n",
       "    }\n",
       "\n",
       "    .dataframe tbody tr th {\n",
       "        vertical-align: top;\n",
       "    }\n",
       "\n",
       "    .dataframe thead th {\n",
       "        text-align: right;\n",
       "    }\n",
       "</style>\n",
       "<table border=\"1\" class=\"dataframe\">\n",
       "  <thead>\n",
       "    <tr style=\"text-align: right;\">\n",
       "      <th></th>\n",
       "      <th>author</th>\n",
       "      <th>text</th>\n",
       "    </tr>\n",
       "  </thead>\n",
       "  <tbody>\n",
       "    <tr>\n",
       "      <th>0</th>\n",
       "      <td>1446633</td>\n",
       "      <td>I shift a bit, warily letting my eyes dart fro...</td>\n",
       "    </tr>\n",
       "    <tr>\n",
       "      <th>2</th>\n",
       "      <td>1446633</td>\n",
       "      <td>A single tear escaped me as I left. I did have...</td>\n",
       "    </tr>\n",
       "    <tr>\n",
       "      <th>3</th>\n",
       "      <td>1446633</td>\n",
       "      <td>\"Ja.\" Ludwig kept his gaze upon her, solidly. ...</td>\n",
       "    </tr>\n",
       "    <tr>\n",
       "      <th>4</th>\n",
       "      <td>1446633</td>\n",
       "      <td>And he did. Slowly, hesitantly...but coming fr...</td>\n",
       "    </tr>\n",
       "    <tr>\n",
       "      <th>5</th>\n",
       "      <td>1446633</td>\n",
       "      <td>Thunderclan cats whip around. I stare directly...</td>\n",
       "    </tr>\n",
       "    <tr>\n",
       "      <th>...</th>\n",
       "      <td>...</td>\n",
       "      <td>...</td>\n",
       "    </tr>\n",
       "    <tr>\n",
       "      <th>105197</th>\n",
       "      <td>4353578</td>\n",
       "      <td>\"That a challenge, dick?\" Austin smirks back a...</td>\n",
       "    </tr>\n",
       "    <tr>\n",
       "      <th>105198</th>\n",
       "      <td>5085069</td>\n",
       "      <td>This is a KNB fanfic. KNB doesn\"t belong to me...</td>\n",
       "    </tr>\n",
       "    <tr>\n",
       "      <th>105199</th>\n",
       "      <td>6983686</td>\n",
       "      <td>At the moment, Chris\" position on the swing se...</td>\n",
       "    </tr>\n",
       "    <tr>\n",
       "      <th>105200</th>\n",
       "      <td>4369540</td>\n",
       "      <td>As you can see a lot of things has happened si...</td>\n",
       "    </tr>\n",
       "    <tr>\n",
       "      <th>105201</th>\n",
       "      <td>4594479</td>\n",
       "      <td>\"I\"m fine. It\"s just . . . I can\"t believe Dal...</td>\n",
       "    </tr>\n",
       "  </tbody>\n",
       "</table>\n",
       "<p>93663 rows × 2 columns</p>\n",
       "</div>"
      ],
      "text/plain": [
       "         author                                               text\n",
       "0       1446633  I shift a bit, warily letting my eyes dart fro...\n",
       "2       1446633  A single tear escaped me as I left. I did have...\n",
       "3       1446633  \"Ja.\" Ludwig kept his gaze upon her, solidly. ...\n",
       "4       1446633  And he did. Slowly, hesitantly...but coming fr...\n",
       "5       1446633  Thunderclan cats whip around. I stare directly...\n",
       "...         ...                                                ...\n",
       "105197  4353578  \"That a challenge, dick?\" Austin smirks back a...\n",
       "105198  5085069  This is a KNB fanfic. KNB doesn\"t belong to me...\n",
       "105199  6983686  At the moment, Chris\" position on the swing se...\n",
       "105200  4369540  As you can see a lot of things has happened si...\n",
       "105201  4594479  \"I\"m fine. It\"s just . . . I can\"t believe Dal...\n",
       "\n",
       "[93663 rows x 2 columns]"
      ]
     },
     "execution_count": 107,
     "metadata": {},
     "output_type": "execute_result"
    }
   ],
   "source": [
    "fit_corpus = build_corpus(\n",
    "    \"pan20-authorship-verification-training-small/pan20-authorship-verification-training-small-truth.jsonl\",\n",
    "    \"pan20-authorship-verification-training-small/pan20-authorship-verification-training-small.jsonl\",\n",
    ")\n",
    "fit_corpus"
   ]
  },
  {
   "cell_type": "code",
   "execution_count": 98,
   "metadata": {
    "metadata": {}
   },
   "outputs": [
    {
     "data": {
      "text/plain": [
       "gt\n",
       "1    5076\n",
       "0    5076\n",
       "Name: count, dtype: int64"
      ]
     },
     "execution_count": 98,
     "metadata": {},
     "output_type": "execute_result"
    }
   ],
   "source": [
    "verif_test[\"gt\"].value_counts()"
   ]
  },
  {
   "cell_type": "code",
   "execution_count": 1,
   "metadata": {},
   "outputs": [
    {
     "ename": "NameError",
     "evalue": "name 'verif_test' is not defined",
     "output_type": "error",
     "traceback": [
      "\u001b[0;31m---------------------------------------------------------------------------\u001b[0m",
      "\u001b[0;31mNameError\u001b[0m                                 Traceback (most recent call last)",
      "Cell \u001b[0;32mIn[1], line 1\u001b[0m\n\u001b[0;32m----> 1\u001b[0m \u001b[43mverif_test\u001b[49m\u001b[38;5;241m.\u001b[39mauthor\u001b[38;5;241m.\u001b[39mvalue_counts()\u001b[38;5;241m.\u001b[39mvalue_counts()\n",
      "\u001b[0;31mNameError\u001b[0m: name 'verif_test' is not defined"
     ]
    }
   ],
   "source": [
    "verif_test.author.value_counts().value_counts()"
   ]
  },
  {
   "cell_type": "code",
   "execution_count": 115,
   "metadata": {
    "metadata": {}
   },
   "outputs": [
    {
     "data": {
      "text/plain": [
       "count\n",
       "1     9143\n",
       "5      905\n",
       "11      94\n",
       "19       7\n",
       "29       3\n",
       "Name: count, dtype: int64"
      ]
     },
     "execution_count": 115,
     "metadata": {},
     "output_type": "execute_result"
    }
   ],
   "source": [
    "verif_train.author.value_counts().value_counts()"
   ]
  },
  {
   "cell_type": "code",
   "execution_count": 116,
   "metadata": {
    "metadata": {}
   },
   "outputs": [
    {
     "data": {
      "text/plain": [
       "7451"
      ]
     },
     "execution_count": 116,
     "metadata": {},
     "output_type": "execute_result"
    }
   ],
   "source": [
    "9143 - 1692"
   ]
  },
  {
   "cell_type": "code",
   "execution_count": 113,
   "metadata": {
    "metadata": {}
   },
   "outputs": [
    {
     "data": {
      "text/plain": [
       "1692.0"
      ]
     },
     "execution_count": 113,
     "metadata": {},
     "output_type": "execute_result"
    }
   ],
   "source": [
    "5076 / 3"
   ]
  },
  {
   "cell_type": "code",
   "execution_count": 117,
   "metadata": {
    "metadata": {}
   },
   "outputs": [],
   "source": [
    "fit_test, fit_train = make_test_train(fit_corpus, rs=42, n_true_samples=500)"
   ]
  },
  {
   "cell_type": "code",
   "execution_count": 118,
   "metadata": {
    "metadata": {}
   },
   "outputs": [
    {
     "data": {
      "text/html": [
       "<div>\n",
       "<style scoped>\n",
       "    .dataframe tbody tr th:only-of-type {\n",
       "        vertical-align: middle;\n",
       "    }\n",
       "\n",
       "    .dataframe tbody tr th {\n",
       "        vertical-align: top;\n",
       "    }\n",
       "\n",
       "    .dataframe thead th {\n",
       "        text-align: right;\n",
       "    }\n",
       "</style>\n",
       "<table border=\"1\" class=\"dataframe\">\n",
       "  <thead>\n",
       "    <tr style=\"text-align: right;\">\n",
       "      <th></th>\n",
       "      <th>author</th>\n",
       "      <th>text</th>\n",
       "      <th>test_against</th>\n",
       "      <th>gt</th>\n",
       "    </tr>\n",
       "  </thead>\n",
       "  <tbody>\n",
       "    <tr>\n",
       "      <th>23617</th>\n",
       "      <td>1007124</td>\n",
       "      <td>tree or two as he landed with a thunderous cra...</td>\n",
       "      <td>1007124</td>\n",
       "      <td>1</td>\n",
       "    </tr>\n",
       "    <tr>\n",
       "      <th>11760</th>\n",
       "      <td>100947</td>\n",
       "      <td>Dilandau opened his mouth to say something alo...</td>\n",
       "      <td>100947</td>\n",
       "      <td>1</td>\n",
       "    </tr>\n",
       "    <tr>\n",
       "      <th>24166</th>\n",
       "      <td>101296</td>\n",
       "      <td>\"Oh good... You remembered...\" He said hateful...</td>\n",
       "      <td>101296</td>\n",
       "      <td>1</td>\n",
       "    </tr>\n",
       "    <tr>\n",
       "      <th>15928</th>\n",
       "      <td>101393</td>\n",
       "      <td>Six children stood in the middle of the street...</td>\n",
       "      <td>101393</td>\n",
       "      <td>1</td>\n",
       "    </tr>\n",
       "    <tr>\n",
       "      <th>22992</th>\n",
       "      <td>1018526</td>\n",
       "      <td>Fenrich straightened as the man approached, hi...</td>\n",
       "      <td>1018526</td>\n",
       "      <td>1</td>\n",
       "    </tr>\n",
       "    <tr>\n",
       "      <th>...</th>\n",
       "      <td>...</td>\n",
       "      <td>...</td>\n",
       "      <td>...</td>\n",
       "      <td>...</td>\n",
       "    </tr>\n",
       "    <tr>\n",
       "      <th>98429</th>\n",
       "      <td>367948</td>\n",
       "      <td>Yet another bright flash followed. This time t...</td>\n",
       "      <td>5477371</td>\n",
       "      <td>0</td>\n",
       "    </tr>\n",
       "    <tr>\n",
       "      <th>104217</th>\n",
       "      <td>4731033</td>\n",
       "      <td>\"She came to me in a dream she said after I ta...</td>\n",
       "      <td>83043</td>\n",
       "      <td>0</td>\n",
       "    </tr>\n",
       "    <tr>\n",
       "      <th>100587</th>\n",
       "      <td>9506334</td>\n",
       "      <td>\"Ok, sure\" I said, walking back over to him, a...</td>\n",
       "      <td>2750705</td>\n",
       "      <td>0</td>\n",
       "    </tr>\n",
       "    <tr>\n",
       "      <th>35184</th>\n",
       "      <td>2561263</td>\n",
       "      <td>For now, his only option was to try to manuall...</td>\n",
       "      <td>3370103</td>\n",
       "      <td>0</td>\n",
       "    </tr>\n",
       "    <tr>\n",
       "      <th>82579</th>\n",
       "      <td>1849287</td>\n",
       "      <td>But he hadn\"t and his team would pay the price...</td>\n",
       "      <td>1479361</td>\n",
       "      <td>0</td>\n",
       "    </tr>\n",
       "  </tbody>\n",
       "</table>\n",
       "<p>1000 rows × 4 columns</p>\n",
       "</div>"
      ],
      "text/plain": [
       "         author                                               text  \\\n",
       "23617   1007124  tree or two as he landed with a thunderous cra...   \n",
       "11760    100947  Dilandau opened his mouth to say something alo...   \n",
       "24166    101296  \"Oh good... You remembered...\" He said hateful...   \n",
       "15928    101393  Six children stood in the middle of the street...   \n",
       "22992   1018526  Fenrich straightened as the man approached, hi...   \n",
       "...         ...                                                ...   \n",
       "98429    367948  Yet another bright flash followed. This time t...   \n",
       "104217  4731033  \"She came to me in a dream she said after I ta...   \n",
       "100587  9506334  \"Ok, sure\" I said, walking back over to him, a...   \n",
       "35184   2561263  For now, his only option was to try to manuall...   \n",
       "82579   1849287  But he hadn\"t and his team would pay the price...   \n",
       "\n",
       "       test_against  gt  \n",
       "23617       1007124   1  \n",
       "11760        100947   1  \n",
       "24166        101296   1  \n",
       "15928        101393   1  \n",
       "22992       1018526   1  \n",
       "...             ...  ..  \n",
       "98429       5477371   0  \n",
       "104217        83043   0  \n",
       "100587      2750705   0  \n",
       "35184       3370103   0  \n",
       "82579       1479361   0  \n",
       "\n",
       "[1000 rows x 4 columns]"
      ]
     },
     "execution_count": 118,
     "metadata": {},
     "output_type": "execute_result"
    }
   ],
   "source": [
    "fit_test"
   ]
  },
  {
   "cell_type": "code",
   "execution_count": 119,
   "metadata": {
    "metadata": {}
   },
   "outputs": [
    {
     "data": {
      "text/html": [
       "<div>\n",
       "<style scoped>\n",
       "    .dataframe tbody tr th:only-of-type {\n",
       "        vertical-align: middle;\n",
       "    }\n",
       "\n",
       "    .dataframe tbody tr th {\n",
       "        vertical-align: top;\n",
       "    }\n",
       "\n",
       "    .dataframe thead th {\n",
       "        text-align: right;\n",
       "    }\n",
       "</style>\n",
       "<table border=\"1\" class=\"dataframe\">\n",
       "  <thead>\n",
       "    <tr style=\"text-align: right;\">\n",
       "      <th></th>\n",
       "      <th>author</th>\n",
       "      <th>text</th>\n",
       "    </tr>\n",
       "  </thead>\n",
       "  <tbody>\n",
       "    <tr>\n",
       "      <th>127</th>\n",
       "      <td>357927</td>\n",
       "      <td>\"The Badaman Zero System is finished.\" Armada ...</td>\n",
       "    </tr>\n",
       "    <tr>\n",
       "      <th>133</th>\n",
       "      <td>357927</td>\n",
       "      <td>\"Hn, he still doesn\"t know my true power.\" Bai...</td>\n",
       "    </tr>\n",
       "    <tr>\n",
       "      <th>134</th>\n",
       "      <td>357927</td>\n",
       "      <td>\"After being attacked by the Great Horn, she\"s...</td>\n",
       "    </tr>\n",
       "    <tr>\n",
       "      <th>135</th>\n",
       "      <td>357927</td>\n",
       "      <td>\"A male.\" Chloe added, readying her transforma...</td>\n",
       "    </tr>\n",
       "    <tr>\n",
       "      <th>136</th>\n",
       "      <td>357927</td>\n",
       "      <td>The Field Marshall merely smiled. SailorStar9:...</td>\n",
       "    </tr>\n",
       "    <tr>\n",
       "      <th>...</th>\n",
       "      <td>...</td>\n",
       "      <td>...</td>\n",
       "    </tr>\n",
       "    <tr>\n",
       "      <th>95263</th>\n",
       "      <td>445964</td>\n",
       "      <td>He lays her down onto their bed, his body hove...</td>\n",
       "    </tr>\n",
       "    <tr>\n",
       "      <th>28675</th>\n",
       "      <td>878883</td>\n",
       "      <td>While the preacher droned on in the background...</td>\n",
       "    </tr>\n",
       "    <tr>\n",
       "      <th>42726</th>\n",
       "      <td>3370103</td>\n",
       "      <td>Julie: And we\"re cornered. Tink: Now, which on...</td>\n",
       "    </tr>\n",
       "    <tr>\n",
       "      <th>30026</th>\n",
       "      <td>880574</td>\n",
       "      <td>\"Your making this seem like a computer game. L...</td>\n",
       "    </tr>\n",
       "    <tr>\n",
       "      <th>94148</th>\n",
       "      <td>234443</td>\n",
       "      <td>Ryousuke didn\"t answer. He turned and restored...</td>\n",
       "    </tr>\n",
       "  </tbody>\n",
       "</table>\n",
       "<p>4256 rows × 2 columns</p>\n",
       "</div>"
      ],
      "text/plain": [
       "        author                                               text\n",
       "127     357927  \"The Badaman Zero System is finished.\" Armada ...\n",
       "133     357927  \"Hn, he still doesn\"t know my true power.\" Bai...\n",
       "134     357927  \"After being attacked by the Great Horn, she\"s...\n",
       "135     357927  \"A male.\" Chloe added, readying her transforma...\n",
       "136     357927  The Field Marshall merely smiled. SailorStar9:...\n",
       "...        ...                                                ...\n",
       "95263   445964  He lays her down onto their bed, his body hove...\n",
       "28675   878883  While the preacher droned on in the background...\n",
       "42726  3370103  Julie: And we\"re cornered. Tink: Now, which on...\n",
       "30026   880574  \"Your making this seem like a computer game. L...\n",
       "94148   234443  Ryousuke didn\"t answer. He turned and restored...\n",
       "\n",
       "[4256 rows x 2 columns]"
      ]
     },
     "execution_count": 119,
     "metadata": {},
     "output_type": "execute_result"
    }
   ],
   "source": [
    "fit_train"
   ]
  },
  {
   "cell_type": "code",
   "execution_count": 120,
   "metadata": {
    "metadata": {}
   },
   "outputs": [],
   "source": [
    "fit_test.to_csv(\"fit_test.csv\")\n",
    "fit_train.to_csv(\"fit_train.csv\")"
   ]
  }
 ],
 "metadata": {
  "kernelspec": {
   "display_name": "py312",
   "language": "python",
   "name": "python3"
  },
  "language_info": {
   "codemirror_mode": {
    "name": "ipython",
    "version": 3
   },
   "file_extension": ".py",
   "mimetype": "text/x-python",
   "name": "python",
   "nbconvert_exporter": "python",
   "pygments_lexer": "ipython3",
   "version": "3.12.3"
  }
 },
 "nbformat": 4,
 "nbformat_minor": 2
}
